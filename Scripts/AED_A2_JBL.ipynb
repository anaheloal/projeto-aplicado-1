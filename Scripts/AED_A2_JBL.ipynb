{
  "nbformat": 4,
  "nbformat_minor": 0,
  "metadata": {
    "colab": {
      "provenance": []
    },
    "kernelspec": {
      "name": "ir",
      "display_name": "R"
    },
    "language_info": {
      "name": "R"
    }
  },
  "cells": [
    {
      "cell_type": "code",
      "execution_count": 1,
      "metadata": {
        "id": "k0dsG7gNQiJf"
      },
      "outputs": [],
      "source": [
        "options(width = 200)"
      ]
    },
    {
      "cell_type": "code",
      "source": [
        "install.packages(\"readxl\")\n",
        "install.packages(\"tidyr\")"
      ],
      "metadata": {
        "id": "ptormeo8Qvv-",
        "colab": {
          "base_uri": "https://localhost:8080/"
        },
        "collapsed": true,
        "outputId": "57ea3f36-f529-473f-d707-243339e717e0"
      },
      "execution_count": 16,
      "outputs": [
        {
          "output_type": "stream",
          "name": "stderr",
          "text": [
            "Installing package into ‘/usr/local/lib/R/site-library’\n",
            "(as ‘lib’ is unspecified)\n",
            "\n",
            "Installing package into ‘/usr/local/lib/R/site-library’\n",
            "(as ‘lib’ is unspecified)\n",
            "\n"
          ]
        }
      ]
    },
    {
      "cell_type": "code",
      "source": [
        "library(readxl)\n",
        "library(ggplot2)\n",
        "library(dplyr)\n",
        "library(tidyr)\n",
        "library(dplyr)\n"
      ],
      "metadata": {
        "collapsed": true,
        "id": "GiBl2JrKRK5A"
      },
      "execution_count": 17,
      "outputs": []
    },
    {
      "cell_type": "code",
      "source": [
        "df <- read_excel(\"/content/Dataset_JBS.xlsx\")"
      ],
      "metadata": {
        "id": "WTukCTR0RMpO"
      },
      "execution_count": 4,
      "outputs": []
    },
    {
      "cell_type": "code",
      "source": [
        "head(df)"
      ],
      "metadata": {
        "colab": {
          "base_uri": "https://localhost:8080/",
          "height": 480
        },
        "collapsed": true,
        "id": "tUqXJUnaRl8s",
        "outputId": "68ea571d-2f05-4187-9914-88084af3173f"
      },
      "execution_count": 5,
      "outputs": [
        {
          "output_type": "display_data",
          "data": {
            "text/html": [
              "<table class=\"dataframe\">\n",
              "<caption>A tibble: 6 × 14</caption>\n",
              "<thead>\n",
              "\t<tr><th scope=col>Indicador</th><th scope=col>4T24 (R$ Milhões)</th><th scope=col>% ROL</th><th scope=col>3T24 (R$ Milhões)</th><th scope=col>% ROL2</th><th scope=col>Var. 4T24 vs 3T24</th><th scope=col>4T23 (R$ Milhões)</th><th scope=col>% ROL3</th><th scope=col>Var. 4T24 vs 4T23</th><th scope=col>2024 (R$ Milhões)</th><th scope=col>% ROL4</th><th scope=col>2023 (R$ Milhões)</th><th scope=col>% ROL5</th><th scope=col>Var. 2024 vs 2023</th></tr>\n",
              "\t<tr><th scope=col>&lt;chr&gt;</th><th scope=col>&lt;dbl&gt;</th><th scope=col>&lt;chr&gt;</th><th scope=col>&lt;dbl&gt;</th><th scope=col>&lt;chr&gt;</th><th scope=col>&lt;chr&gt;</th><th scope=col>&lt;dbl&gt;</th><th scope=col>&lt;chr&gt;</th><th scope=col>&lt;chr&gt;</th><th scope=col>&lt;dbl&gt;</th><th scope=col>&lt;dbl&gt;</th><th scope=col>&lt;dbl&gt;</th><th scope=col>&lt;dbl&gt;</th><th scope=col>&lt;chr&gt;</th></tr>\n",
              "</thead>\n",
              "<tbody>\n",
              "\t<tr><td>Receita Líquida                  </td><td>116700.7</td><td>1                     </td><td>110497.9</td><td>1                     </td><td>5.6000000000000001E-2 </td><td> 96340.7</td><td>1                     </td><td>0.21099999999999999</td><td> 416952.0</td><td> 1.000</td><td> 363816.5</td><td> 1.000</td><td>0.14599999999999999  </td></tr>\n",
              "\t<tr><td>Custo dos Produtos Vendidos      </td><td>-99308.9</td><td>-0.85099999999999998  </td><td>-92309.5</td><td>-0.83499999999999996  </td><td>7.5999999999999998E-2 </td><td>-85246.0</td><td>-0.88500000000000001  </td><td>0.16500000000000001</td><td>-354179.0</td><td>-0.849</td><td>-324167.5</td><td>-0.891</td><td>9.2999999999999999E-2</td></tr>\n",
              "\t<tr><td>Lucro Bruto                      </td><td> 17391.8</td><td>0.14899999999999999   </td><td> 18188.3</td><td>0.16500000000000001   </td><td>-4.3999999999999997E-2</td><td> 11094.8</td><td>0.115                 </td><td>0.56799999999999995</td><td>  62773.0</td><td> 0.151</td><td>  39649.0</td><td> 0.109</td><td>0.58299999999999996  </td></tr>\n",
              "\t<tr><td>Despesas com Vendas              </td><td> -7241.1</td><td>-6.2E-2               </td><td> -7578.8</td><td>-6.9000000000000006E-2</td><td>-4.4999999999999998E-2</td><td> -5977.2</td><td>-6.2E-2               </td><td>0.21099999999999999</td><td> -26116.5</td><td>-0.063</td><td> -22941.2</td><td>-0.063</td><td>0.13800000000000001  </td></tr>\n",
              "\t<tr><td>Despesas Administrativas e Gerais</td><td> -4177.3</td><td>-3.5999999999999997E-2</td><td> -1876.9</td><td>-1.7000000000000001E-2</td><td>-                     </td><td> -3440.0</td><td>-3.5999999999999997E-2</td><td>0.214              </td><td> -12305.3</td><td>-0.030</td><td> -11547.1</td><td>-0.032</td><td>6.6000000000000003E-2</td></tr>\n",
              "\t<tr><td>Resultado Financeiro Líquido     </td><td> -2105.2</td><td>-1.7999999999999999E-2</td><td> -2002.4</td><td>-1.7999999999999999E-2</td><td>5.0999999999999997E-2 </td><td> -1686.9</td><td>-1.7999999999999999E-2</td><td>0.248              </td><td>  -8963.1</td><td>-0.021</td><td>  -6748.0</td><td>-0.019</td><td>0.32800000000000001  </td></tr>\n",
              "</tbody>\n",
              "</table>\n"
            ],
            "text/markdown": "\nA tibble: 6 × 14\n\n| Indicador &lt;chr&gt; | 4T24 (R$ Milhões) &lt;dbl&gt; | % ROL &lt;chr&gt; | 3T24 (R$ Milhões) &lt;dbl&gt; | % ROL2 &lt;chr&gt; | Var. 4T24 vs 3T24 &lt;chr&gt; | 4T23 (R$ Milhões) &lt;dbl&gt; | % ROL3 &lt;chr&gt; | Var. 4T24 vs 4T23 &lt;chr&gt; | 2024 (R$ Milhões) &lt;dbl&gt; | % ROL4 &lt;dbl&gt; | 2023 (R$ Milhões) &lt;dbl&gt; | % ROL5 &lt;dbl&gt; | Var. 2024 vs 2023 &lt;chr&gt; |\n|---|---|---|---|---|---|---|---|---|---|---|---|---|---|\n| Receita Líquida                   | 116700.7 | 1                      | 110497.9 | 1                      | 5.6000000000000001E-2  |  96340.7 | 1                      | 0.21099999999999999 |  416952.0 |  1.000 |  363816.5 |  1.000 | 0.14599999999999999   |\n| Custo dos Produtos Vendidos       | -99308.9 | -0.85099999999999998   | -92309.5 | -0.83499999999999996   | 7.5999999999999998E-2  | -85246.0 | -0.88500000000000001   | 0.16500000000000001 | -354179.0 | -0.849 | -324167.5 | -0.891 | 9.2999999999999999E-2 |\n| Lucro Bruto                       |  17391.8 | 0.14899999999999999    |  18188.3 | 0.16500000000000001    | -4.3999999999999997E-2 |  11094.8 | 0.115                  | 0.56799999999999995 |   62773.0 |  0.151 |   39649.0 |  0.109 | 0.58299999999999996   |\n| Despesas com Vendas               |  -7241.1 | -6.2E-2                |  -7578.8 | -6.9000000000000006E-2 | -4.4999999999999998E-2 |  -5977.2 | -6.2E-2                | 0.21099999999999999 |  -26116.5 | -0.063 |  -22941.2 | -0.063 | 0.13800000000000001   |\n| Despesas Administrativas e Gerais |  -4177.3 | -3.5999999999999997E-2 |  -1876.9 | -1.7000000000000001E-2 | -                      |  -3440.0 | -3.5999999999999997E-2 | 0.214               |  -12305.3 | -0.030 |  -11547.1 | -0.032 | 6.6000000000000003E-2 |\n| Resultado Financeiro Líquido      |  -2105.2 | -1.7999999999999999E-2 |  -2002.4 | -1.7999999999999999E-2 | 5.0999999999999997E-2  |  -1686.9 | -1.7999999999999999E-2 | 0.248               |   -8963.1 | -0.021 |   -6748.0 | -0.019 | 0.32800000000000001   |\n\n",
            "text/latex": "A tibble: 6 × 14\n\\begin{tabular}{llllllllllllll}\n Indicador & 4T24 (R\\$ Milhões) & \\% ROL & 3T24 (R\\$ Milhões) & \\% ROL2 & Var. 4T24 vs 3T24 & 4T23 (R\\$ Milhões) & \\% ROL3 & Var. 4T24 vs 4T23 & 2024 (R\\$ Milhões) & \\% ROL4 & 2023 (R\\$ Milhões) & \\% ROL5 & Var. 2024 vs 2023\\\\\n <chr> & <dbl> & <chr> & <dbl> & <chr> & <chr> & <dbl> & <chr> & <chr> & <dbl> & <dbl> & <dbl> & <dbl> & <chr>\\\\\n\\hline\n\t Receita Líquida                   & 116700.7 & 1                      & 110497.9 & 1                      & 5.6000000000000001E-2  &  96340.7 & 1                      & 0.21099999999999999 &  416952.0 &  1.000 &  363816.5 &  1.000 & 0.14599999999999999  \\\\\n\t Custo dos Produtos Vendidos       & -99308.9 & -0.85099999999999998   & -92309.5 & -0.83499999999999996   & 7.5999999999999998E-2  & -85246.0 & -0.88500000000000001   & 0.16500000000000001 & -354179.0 & -0.849 & -324167.5 & -0.891 & 9.2999999999999999E-2\\\\\n\t Lucro Bruto                       &  17391.8 & 0.14899999999999999    &  18188.3 & 0.16500000000000001    & -4.3999999999999997E-2 &  11094.8 & 0.115                  & 0.56799999999999995 &   62773.0 &  0.151 &   39649.0 &  0.109 & 0.58299999999999996  \\\\\n\t Despesas com Vendas               &  -7241.1 & -6.2E-2                &  -7578.8 & -6.9000000000000006E-2 & -4.4999999999999998E-2 &  -5977.2 & -6.2E-2                & 0.21099999999999999 &  -26116.5 & -0.063 &  -22941.2 & -0.063 & 0.13800000000000001  \\\\\n\t Despesas Administrativas e Gerais &  -4177.3 & -3.5999999999999997E-2 &  -1876.9 & -1.7000000000000001E-2 & -                      &  -3440.0 & -3.5999999999999997E-2 & 0.214               &  -12305.3 & -0.030 &  -11547.1 & -0.032 & 6.6000000000000003E-2\\\\\n\t Resultado Financeiro Líquido      &  -2105.2 & -1.7999999999999999E-2 &  -2002.4 & -1.7999999999999999E-2 & 5.0999999999999997E-2  &  -1686.9 & -1.7999999999999999E-2 & 0.248               &   -8963.1 & -0.021 &   -6748.0 & -0.019 & 0.32800000000000001  \\\\\n\\end{tabular}\n",
            "text/plain": [
              "  Indicador                         4T24 (R$ Milhões) % ROL                  3T24 (R$ Milhões) % ROL2                 Var. 4T24 vs 3T24      4T23 (R$ Milhões) % ROL3                \n",
              "1 Receita Líquida                   116700.7          1                      110497.9          1                      5.6000000000000001E-2   96340.7          1                     \n",
              "2 Custo dos Produtos Vendidos       -99308.9          -0.85099999999999998   -92309.5          -0.83499999999999996   7.5999999999999998E-2  -85246.0          -0.88500000000000001  \n",
              "3 Lucro Bruto                        17391.8          0.14899999999999999     18188.3          0.16500000000000001    -4.3999999999999997E-2  11094.8          0.115                 \n",
              "4 Despesas com Vendas                -7241.1          -6.2E-2                 -7578.8          -6.9000000000000006E-2 -4.4999999999999998E-2  -5977.2          -6.2E-2               \n",
              "5 Despesas Administrativas e Gerais  -4177.3          -3.5999999999999997E-2  -1876.9          -1.7000000000000001E-2 -                       -3440.0          -3.5999999999999997E-2\n",
              "6 Resultado Financeiro Líquido       -2105.2          -1.7999999999999999E-2  -2002.4          -1.7999999999999999E-2 5.0999999999999997E-2   -1686.9          -1.7999999999999999E-2\n",
              "  Var. 4T24 vs 4T23   2024 (R$ Milhões) % ROL4 2023 (R$ Milhões) % ROL5 Var. 2024 vs 2023    \n",
              "1 0.21099999999999999  416952.0          1.000  363816.5          1.000 0.14599999999999999  \n",
              "2 0.16500000000000001 -354179.0         -0.849 -324167.5         -0.891 9.2999999999999999E-2\n",
              "3 0.56799999999999995   62773.0          0.151   39649.0          0.109 0.58299999999999996  \n",
              "4 0.21099999999999999  -26116.5         -0.063  -22941.2         -0.063 0.13800000000000001  \n",
              "5 0.214                -12305.3         -0.030  -11547.1         -0.032 6.6000000000000003E-2\n",
              "6 0.248                 -8963.1         -0.021   -6748.0         -0.019 0.32800000000000001  "
            ]
          },
          "metadata": {}
        }
      ]
    },
    {
      "cell_type": "markdown",
      "source": [
        "## Analise inicial dos dados\n",
        "\n",
        "*   Numero de exemplares\n",
        "*   Tipos de dados\n",
        "*   Medidas de posição e dispersão"
      ],
      "metadata": {
        "id": "u0VfBrRbRq_a"
      }
    },
    {
      "cell_type": "code",
      "source": [
        "## 1.0 Número de exemplares (linhas) e dimensões (colunas)\n",
        "nrow(df)\n",
        "ncol(df)"
      ],
      "metadata": {
        "colab": {
          "base_uri": "https://localhost:8080/",
          "height": 52
        },
        "id": "oByE51joRt0r",
        "outputId": "62b0590d-c1c6-42c8-82bf-a1e8ef47e010"
      },
      "execution_count": 6,
      "outputs": [
        {
          "output_type": "display_data",
          "data": {
            "text/html": [
              "14"
            ],
            "text/markdown": "14",
            "text/latex": "14",
            "text/plain": [
              "[1] 14"
            ]
          },
          "metadata": {}
        },
        {
          "output_type": "display_data",
          "data": {
            "text/html": [
              "14"
            ],
            "text/markdown": "14",
            "text/latex": "14",
            "text/plain": [
              "[1] 14"
            ]
          },
          "metadata": {}
        }
      ]
    },
    {
      "cell_type": "code",
      "source": [
        "## 2.0 Tipo dos dados\n",
        "str(df) #Alternativa 1\n",
        "sapply(df, class) #Alternativa 2"
      ],
      "metadata": {
        "colab": {
          "base_uri": "https://localhost:8080/",
          "height": 312
        },
        "id": "9qvBIa6RRv1S",
        "outputId": "6242a333-7fe0-48b0-e370-f8e053bd0ef6"
      },
      "execution_count": 7,
      "outputs": [
        {
          "output_type": "stream",
          "name": "stdout",
          "text": [
            "tibble [14 × 14] (S3: tbl_df/tbl/data.frame)\n",
            " $ Indicador        : chr [1:14] \"Receita Líquida\" \"Custo dos Produtos Vendidos\" \"Lucro Bruto\" \"Despesas com Vendas\" ...\n",
            " $ 4T24 (R$ Milhões): num [1:14] 116701 -99309 17392 -7241 -4177 ...\n",
            " $ % ROL            : chr [1:14] \"1\" \"-0.85099999999999998\" \"0.14899999999999999\" \"-6.2E-2\" ...\n",
            " $ 3T24 (R$ Milhões): num [1:14] 110498 -92310 18188 -7579 -1877 ...\n",
            " $ % ROL2           : chr [1:14] \"1\" \"-0.83499999999999996\" \"0.16500000000000001\" \"-6.9000000000000006E-2\" ...\n",
            " $ Var. 4T24 vs 3T24: chr [1:14] \"5.6000000000000001E-2\" \"7.5999999999999998E-2\" \"-4.3999999999999997E-2\" \"-4.4999999999999998E-2\" ...\n",
            " $ 4T23 (R$ Milhões): num [1:14] 96341 -85246 11095 -5977 -3440 ...\n",
            " $ % ROL3           : chr [1:14] \"1\" \"-0.88500000000000001\" \"0.115\" \"-6.2E-2\" ...\n",
            " $ Var. 4T24 vs 4T23: chr [1:14] \"0.21099999999999999\" \"0.16500000000000001\" \"0.56799999999999995\" \"0.21099999999999999\" ...\n",
            " $ 2024 (R$ Milhões): num [1:14] 416952 -354179 62773 -26116 -12305 ...\n",
            " $ % ROL4           : num [1:14] 1 -0.849 0.151 -0.063 -0.03 -0.021 0 -0.001 0.036 -0.01 ...\n",
            " $ 2023 (R$ Milhões): num [1:14] 363816 -324168 39649 -22941 -11547 ...\n",
            " $ % ROL5           : num [1:14] 1 -0.891 0.109 -0.063 -0.032 -0.019 0 0 -0.004 0.002 ...\n",
            " $ Var. 2024 vs 2023: chr [1:14] \"0.14599999999999999\" \"9.2999999999999999E-2\" \"0.58299999999999996\" \"0.13800000000000001\" ...\n"
          ]
        },
        {
          "output_type": "display_data",
          "data": {
            "text/html": [
              "<style>\n",
              ".dl-inline {width: auto; margin:0; padding: 0}\n",
              ".dl-inline>dt, .dl-inline>dd {float: none; width: auto; display: inline-block}\n",
              ".dl-inline>dt::after {content: \":\\0020\"; padding-right: .5ex}\n",
              ".dl-inline>dt:not(:first-of-type) {padding-left: .5ex}\n",
              "</style><dl class=dl-inline><dt>Indicador</dt><dd>'character'</dd><dt>4T24 (R$ Milhões)</dt><dd>'numeric'</dd><dt>% ROL</dt><dd>'character'</dd><dt>3T24 (R$ Milhões)</dt><dd>'numeric'</dd><dt>% ROL2</dt><dd>'character'</dd><dt>Var. 4T24 vs 3T24</dt><dd>'character'</dd><dt>4T23 (R$ Milhões)</dt><dd>'numeric'</dd><dt>% ROL3</dt><dd>'character'</dd><dt>Var. 4T24 vs 4T23</dt><dd>'character'</dd><dt>2024 (R$ Milhões)</dt><dd>'numeric'</dd><dt>% ROL4</dt><dd>'numeric'</dd><dt>2023 (R$ Milhões)</dt><dd>'numeric'</dd><dt>% ROL5</dt><dd>'numeric'</dd><dt>Var. 2024 vs 2023</dt><dd>'character'</dd></dl>\n"
            ],
            "text/markdown": "Indicador\n:   'character'4T24 (R$ Milhões)\n:   'numeric'% ROL\n:   'character'3T24 (R$ Milhões)\n:   'numeric'% ROL2\n:   'character'Var. 4T24 vs 3T24\n:   'character'4T23 (R$ Milhões)\n:   'numeric'% ROL3\n:   'character'Var. 4T24 vs 4T23\n:   'character'2024 (R$ Milhões)\n:   'numeric'% ROL4\n:   'numeric'2023 (R$ Milhões)\n:   'numeric'% ROL5\n:   'numeric'Var. 2024 vs 2023\n:   'character'\n\n",
            "text/latex": "\\begin{description*}\n\\item[Indicador] 'character'\n\\item[4T24 (R\\textbackslash{}\\$ Milhões)] 'numeric'\n\\item[\\textbackslash{}\\% ROL] 'character'\n\\item[3T24 (R\\textbackslash{}\\$ Milhões)] 'numeric'\n\\item[\\textbackslash{}\\% ROL2] 'character'\n\\item[Var. 4T24 vs 3T24] 'character'\n\\item[4T23 (R\\textbackslash{}\\$ Milhões)] 'numeric'\n\\item[\\textbackslash{}\\% ROL3] 'character'\n\\item[Var. 4T24 vs 4T23] 'character'\n\\item[2024 (R\\textbackslash{}\\$ Milhões)] 'numeric'\n\\item[\\textbackslash{}\\% ROL4] 'numeric'\n\\item[2023 (R\\textbackslash{}\\$ Milhões)] 'numeric'\n\\item[\\textbackslash{}\\% ROL5] 'numeric'\n\\item[Var. 2024 vs 2023] 'character'\n\\end{description*}\n",
            "text/plain": [
              "        Indicador 4T24 (R$ Milhões)             % ROL 3T24 (R$ Milhões)            % ROL2 Var. 4T24 vs 3T24 4T23 (R$ Milhões)            % ROL3 Var. 4T24 vs 4T23 2024 (R$ Milhões)            % ROL4 \n",
              "      \"character\"         \"numeric\"       \"character\"         \"numeric\"       \"character\"       \"character\"         \"numeric\"       \"character\"       \"character\"         \"numeric\"         \"numeric\" \n",
              "2023 (R$ Milhões)            % ROL5 Var. 2024 vs 2023 \n",
              "        \"numeric\"         \"numeric\"       \"character\" "
            ]
          },
          "metadata": {}
        }
      ]
    },
    {
      "cell_type": "code",
      "source": [
        "## 3.0 Medidas de posição e dispersão\n",
        "summary(df)"
      ],
      "metadata": {
        "colab": {
          "base_uri": "https://localhost:8080/",
          "height": 295
        },
        "id": "FAUPFJ1mRyI2",
        "outputId": "4e244505-c1d8-412d-d535-52be9e8d83b6"
      },
      "execution_count": 8,
      "outputs": [
        {
          "output_type": "display_data",
          "data": {
            "text/plain": [
              "  Indicador         4T24 (R$ Milhões)     % ROL           3T24 (R$ Milhões)      % ROL2          Var. 4T24 vs 3T24  4T23 (R$ Milhões)      % ROL3          Var. 4T24 vs 4T23  2024 (R$ Milhões)  \n",
              " Length:14          Min.   :-99308.9   Length:14          Min.   :-92309.50   Length:14          Length:14          Min.   :-85246.00   Length:14          Length:14          Min.   :-354179.0  \n",
              " Class :character   1st Qu.: -1799.3   Class :character   1st Qu.: -1971.03   Class :character   Class :character   1st Qu.: -1296.50   Class :character   Class :character   1st Qu.:  -8963.1  \n",
              " Mode  :character   Median :  -132.5   Mode  :character   Median :   -55.78   Mode  :character   Mode  :character   Median :    41.32   Mode  :character   Mode  :character   Median :   -587.8  \n",
              "                    Mean   :  2611.9                      Mean   :  3175.26                                         Mean   :  1175.16                                         Mean   :  10451.2  \n",
              "                    3rd Qu.:  3272.9                      3rd Qu.:  5939.50                                         3rd Qu.:   114.72                                         3rd Qu.:  14820.6  \n",
              "                    Max.   :116700.7                      Max.   :110497.90                                         Max.   : 96340.70                                         Max.   : 416952.0  \n",
              "                                                                                                                                                                              NA's   :1          \n",
              "     % ROL4         2023 (R$ Milhões)       % ROL5         Var. 2024 vs 2023 \n",
              " Min.   :-0.84900   Min.   :-324167.5   Min.   :-0.89100   Length:14         \n",
              " 1st Qu.:-0.02100   1st Qu.:  -6748.0   1st Qu.:-0.01900   Class :character  \n",
              " Median :-0.00100   Median :   -331.8   Median :-0.00100   Mode  :character  \n",
              " Mean   : 0.02515   Mean   :   4098.1   Mean   : 0.01115                     \n",
              " 3rd Qu.: 0.03600   3rd Qu.:    668.9   3rd Qu.: 0.00200                     \n",
              " Max.   : 1.00000   Max.   : 363816.5   Max.   : 1.00000                     \n",
              " NA's   :1          NA's   :1           NA's   :1                            "
            ]
          },
          "metadata": {}
        }
      ]
    },
    {
      "cell_type": "markdown",
      "source": [
        "# Correlações, valores perdidos, anomalias e outliers\n"
      ],
      "metadata": {
        "id": "c5JsGyhaUPCU"
      }
    },
    {
      "cell_type": "code",
      "source": [
        "## 5.0 Correlações\n",
        "numeric_cols <- sapply(df, is.numeric)\n",
        "cor(df[, numeric_cols], use=\"complete.obs\")"
      ],
      "metadata": {
        "colab": {
          "base_uri": "https://localhost:8080/",
          "height": 286
        },
        "id": "M6P8MqEnUQGm",
        "outputId": "f3d896ef-1401-48b7-9f9a-584a15b8d9a2"
      },
      "execution_count": 20,
      "outputs": [
        {
          "output_type": "display_data",
          "data": {
            "text/html": [
              "<table class=\"dataframe\">\n",
              "<caption>A matrix: 7 × 7 of type dbl</caption>\n",
              "<thead>\n",
              "\t<tr><th></th><th scope=col>4T24 (R$ Milhões)</th><th scope=col>3T24 (R$ Milhões)</th><th scope=col>4T23 (R$ Milhões)</th><th scope=col>2024 (R$ Milhões)</th><th scope=col>% ROL4</th><th scope=col>2023 (R$ Milhões)</th><th scope=col>% ROL5</th></tr>\n",
              "</thead>\n",
              "<tbody>\n",
              "\t<tr><th scope=row>4T24 (R$ Milhões)</th><td>1.0000000</td><td>0.9994979</td><td>0.9990645</td><td>0.9999762</td><td>0.9999762</td><td>0.9987351</td><td>0.9987393</td></tr>\n",
              "\t<tr><th scope=row>3T24 (R$ Milhões)</th><td>0.9994979</td><td>1.0000000</td><td>0.9975242</td><td>0.9996546</td><td>0.9996655</td><td>0.9970763</td><td>0.9970773</td></tr>\n",
              "\t<tr><th scope=row>4T23 (R$ Milhões)</th><td>0.9990645</td><td>0.9975242</td><td>1.0000000</td><td>0.9989221</td><td>0.9988991</td><td>0.9999701</td><td>0.9999708</td></tr>\n",
              "\t<tr><th scope=row>2024 (R$ Milhões)</th><td>0.9999762</td><td>0.9996546</td><td>0.9989221</td><td>1.0000000</td><td>0.9999996</td><td>0.9985896</td><td>0.9985934</td></tr>\n",
              "\t<tr><th scope=row>% ROL4</th><td>0.9999762</td><td>0.9996655</td><td>0.9988991</td><td>0.9999996</td><td>1.0000000</td><td>0.9985614</td><td>0.9985651</td></tr>\n",
              "\t<tr><th scope=row>2023 (R$ Milhões)</th><td>0.9987351</td><td>0.9970763</td><td>0.9999701</td><td>0.9985896</td><td>0.9985614</td><td>1.0000000</td><td>0.9999999</td></tr>\n",
              "\t<tr><th scope=row>% ROL5</th><td>0.9987393</td><td>0.9970773</td><td>0.9999708</td><td>0.9985934</td><td>0.9985651</td><td>0.9999999</td><td>1.0000000</td></tr>\n",
              "</tbody>\n",
              "</table>\n"
            ],
            "text/markdown": "\nA matrix: 7 × 7 of type dbl\n\n| <!--/--> | 4T24 (R$ Milhões) | 3T24 (R$ Milhões) | 4T23 (R$ Milhões) | 2024 (R$ Milhões) | % ROL4 | 2023 (R$ Milhões) | % ROL5 |\n|---|---|---|---|---|---|---|---|\n| 4T24 (R$ Milhões) | 1.0000000 | 0.9994979 | 0.9990645 | 0.9999762 | 0.9999762 | 0.9987351 | 0.9987393 |\n| 3T24 (R$ Milhões) | 0.9994979 | 1.0000000 | 0.9975242 | 0.9996546 | 0.9996655 | 0.9970763 | 0.9970773 |\n| 4T23 (R$ Milhões) | 0.9990645 | 0.9975242 | 1.0000000 | 0.9989221 | 0.9988991 | 0.9999701 | 0.9999708 |\n| 2024 (R$ Milhões) | 0.9999762 | 0.9996546 | 0.9989221 | 1.0000000 | 0.9999996 | 0.9985896 | 0.9985934 |\n| % ROL4 | 0.9999762 | 0.9996655 | 0.9988991 | 0.9999996 | 1.0000000 | 0.9985614 | 0.9985651 |\n| 2023 (R$ Milhões) | 0.9987351 | 0.9970763 | 0.9999701 | 0.9985896 | 0.9985614 | 1.0000000 | 0.9999999 |\n| % ROL5 | 0.9987393 | 0.9970773 | 0.9999708 | 0.9985934 | 0.9985651 | 0.9999999 | 1.0000000 |\n\n",
            "text/latex": "A matrix: 7 × 7 of type dbl\n\\begin{tabular}{r|lllllll}\n  & 4T24 (R\\$ Milhões) & 3T24 (R\\$ Milhões) & 4T23 (R\\$ Milhões) & 2024 (R\\$ Milhões) & \\% ROL4 & 2023 (R\\$ Milhões) & \\% ROL5\\\\\n\\hline\n\t4T24 (R\\$ Milhões) & 1.0000000 & 0.9994979 & 0.9990645 & 0.9999762 & 0.9999762 & 0.9987351 & 0.9987393\\\\\n\t3T24 (R\\$ Milhões) & 0.9994979 & 1.0000000 & 0.9975242 & 0.9996546 & 0.9996655 & 0.9970763 & 0.9970773\\\\\n\t4T23 (R\\$ Milhões) & 0.9990645 & 0.9975242 & 1.0000000 & 0.9989221 & 0.9988991 & 0.9999701 & 0.9999708\\\\\n\t2024 (R\\$ Milhões) & 0.9999762 & 0.9996546 & 0.9989221 & 1.0000000 & 0.9999996 & 0.9985896 & 0.9985934\\\\\n\t\\% ROL4 & 0.9999762 & 0.9996655 & 0.9988991 & 0.9999996 & 1.0000000 & 0.9985614 & 0.9985651\\\\\n\t2023 (R\\$ Milhões) & 0.9987351 & 0.9970763 & 0.9999701 & 0.9985896 & 0.9985614 & 1.0000000 & 0.9999999\\\\\n\t\\% ROL5 & 0.9987393 & 0.9970773 & 0.9999708 & 0.9985934 & 0.9985651 & 0.9999999 & 1.0000000\\\\\n\\end{tabular}\n",
            "text/plain": [
              "                  4T24 (R$ Milhões) 3T24 (R$ Milhões) 4T23 (R$ Milhões) 2024 (R$ Milhões) % ROL4    2023 (R$ Milhões) % ROL5   \n",
              "4T24 (R$ Milhões) 1.0000000         0.9994979         0.9990645         0.9999762         0.9999762 0.9987351         0.9987393\n",
              "3T24 (R$ Milhões) 0.9994979         1.0000000         0.9975242         0.9996546         0.9996655 0.9970763         0.9970773\n",
              "4T23 (R$ Milhões) 0.9990645         0.9975242         1.0000000         0.9989221         0.9988991 0.9999701         0.9999708\n",
              "2024 (R$ Milhões) 0.9999762         0.9996546         0.9989221         1.0000000         0.9999996 0.9985896         0.9985934\n",
              "% ROL4            0.9999762         0.9996655         0.9988991         0.9999996         1.0000000 0.9985614         0.9985651\n",
              "2023 (R$ Milhões) 0.9987351         0.9970763         0.9999701         0.9985896         0.9985614 1.0000000         0.9999999\n",
              "% ROL5            0.9987393         0.9970773         0.9999708         0.9985934         0.9985651 0.9999999         1.0000000"
            ]
          },
          "metadata": {}
        }
      ]
    },
    {
      "cell_type": "code",
      "source": [
        "## 6.0 Valores perdidos ou incorretos\n",
        "\n",
        "sum(is.na(df))\n",
        "colSums(is.na(df))\n"
      ],
      "metadata": {
        "colab": {
          "base_uri": "https://localhost:8080/",
          "height": 69
        },
        "id": "BrTUKPMjUSwM",
        "outputId": "1d693da1-9554-45b1-8383-c5ca34f436a1"
      },
      "execution_count": 21,
      "outputs": [
        {
          "output_type": "display_data",
          "data": {
            "text/html": [
              "5"
            ],
            "text/markdown": "5",
            "text/latex": "5",
            "text/plain": [
              "[1] 5"
            ]
          },
          "metadata": {}
        },
        {
          "output_type": "display_data",
          "data": {
            "text/html": [
              "<style>\n",
              ".dl-inline {width: auto; margin:0; padding: 0}\n",
              ".dl-inline>dt, .dl-inline>dd {float: none; width: auto; display: inline-block}\n",
              ".dl-inline>dt::after {content: \":\\0020\"; padding-right: .5ex}\n",
              ".dl-inline>dt:not(:first-of-type) {padding-left: .5ex}\n",
              "</style><dl class=dl-inline><dt>Indicador</dt><dd>0</dd><dt>4T24 (R$ Milhões)</dt><dd>0</dd><dt>% ROL</dt><dd>0</dd><dt>3T24 (R$ Milhões)</dt><dd>0</dd><dt>% ROL2</dt><dd>0</dd><dt>Var. 4T24 vs 3T24</dt><dd>0</dd><dt>4T23 (R$ Milhões)</dt><dd>0</dd><dt>% ROL3</dt><dd>0</dd><dt>Var. 4T24 vs 4T23</dt><dd>0</dd><dt>2024 (R$ Milhões)</dt><dd>1</dd><dt>% ROL4</dt><dd>1</dd><dt>2023 (R$ Milhões)</dt><dd>1</dd><dt>% ROL5</dt><dd>1</dd><dt>Var. 2024 vs 2023</dt><dd>1</dd></dl>\n"
            ],
            "text/markdown": "Indicador\n:   04T24 (R$ Milhões)\n:   0% ROL\n:   03T24 (R$ Milhões)\n:   0% ROL2\n:   0Var. 4T24 vs 3T24\n:   04T23 (R$ Milhões)\n:   0% ROL3\n:   0Var. 4T24 vs 4T23\n:   02024 (R$ Milhões)\n:   1% ROL4\n:   12023 (R$ Milhões)\n:   1% ROL5\n:   1Var. 2024 vs 2023\n:   1\n\n",
            "text/latex": "\\begin{description*}\n\\item[Indicador] 0\n\\item[4T24 (R\\textbackslash{}\\$ Milhões)] 0\n\\item[\\textbackslash{}\\% ROL] 0\n\\item[3T24 (R\\textbackslash{}\\$ Milhões)] 0\n\\item[\\textbackslash{}\\% ROL2] 0\n\\item[Var. 4T24 vs 3T24] 0\n\\item[4T23 (R\\textbackslash{}\\$ Milhões)] 0\n\\item[\\textbackslash{}\\% ROL3] 0\n\\item[Var. 4T24 vs 4T23] 0\n\\item[2024 (R\\textbackslash{}\\$ Milhões)] 1\n\\item[\\textbackslash{}\\% ROL4] 1\n\\item[2023 (R\\textbackslash{}\\$ Milhões)] 1\n\\item[\\textbackslash{}\\% ROL5] 1\n\\item[Var. 2024 vs 2023] 1\n\\end{description*}\n",
            "text/plain": [
              "        Indicador 4T24 (R$ Milhões)             % ROL 3T24 (R$ Milhões)            % ROL2 Var. 4T24 vs 3T24 4T23 (R$ Milhões)            % ROL3 Var. 4T24 vs 4T23 2024 (R$ Milhões)            % ROL4 \n",
              "                0                 0                 0                 0                 0                 0                 0                 0                 0                 1                 1 \n",
              "2023 (R$ Milhões)            % ROL5 Var. 2024 vs 2023 \n",
              "                1                 1                 1 "
            ]
          },
          "metadata": {}
        }
      ]
    },
    {
      "cell_type": "code",
      "source": [
        "## 7.0 Identificação de outliers\n",
        "\n",
        "\n",
        "boxplot(\n",
        "  df$`4T24 (R$ Milhões)`,\n",
        "  df$`3T24 (R$ Milhões)`,\n",
        "  names = c(\"4T2024-Milhoes\", \"4T2024-Milhoes\"),\n",
        "  main = \"Outliers no terceiro e quarto trimestre\",\n",
        "  ylab = \"Valor\",\n",
        "  col = c(\"green\", \"orange\")\n",
        ")"
      ],
      "metadata": {
        "colab": {
          "base_uri": "https://localhost:8080/",
          "height": 437
        },
        "id": "OEV6ifk0Uf0t",
        "outputId": "1a595a79-409f-4c5c-e1ee-136942ae9d98"
      },
      "execution_count": 22,
      "outputs": [
        {
          "output_type": "display_data",
          "data": {
            "text/plain": [
              "Plot with title “Outliers no terceiro e quarto trimestre”"
            ],
            "image/png": "[encoded data removed]"
          },
          "metadata": {
            "image/png": {
              "width": 420,
              "height": 420
            }
          }
        }
      ]
    }
  ]
}