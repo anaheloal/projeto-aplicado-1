{
  "nbformat": 4,
  "nbformat_minor": 0,
  "metadata": {
    "colab": {
      "provenance": [],
      "collapsed_sections": [
        "m67sasYVmpHB",
        "umR-DLYBv46x",
        "Arnt4Amv3lvs"
      ],
      "toc_visible": true
    },
    "kernelspec": {
      "name": "ir",
      "display_name": "R"
    },
    "language_info": {
      "name": "R"
    }
  },
  "cells": [
    {
      "cell_type": "code",
      "source": [
        "options(width = 200)"
      ],
      "metadata": {
        "id": "qgPWdqBk2M0N"
      },
      "execution_count": null,
      "outputs": []
    },
    {
      "cell_type": "code",
      "source": [
        "install.packages(\"readxl\")"
      ],
      "metadata": {
        "colab": {
          "base_uri": "https://localhost:8080/"
        },
        "id": "YSc6kvKTiYHE",
        "outputId": "55956887-771e-485f-cead-364e8fb2d9bf"
      },
      "execution_count": null,
      "outputs": [
        {
          "output_type": "stream",
          "name": "stderr",
          "text": [
            "Installing package into ‘/usr/local/lib/R/site-library’\n",
            "(as ‘lib’ is unspecified)\n",
            "\n"
          ]
        }
      ]
    },
    {
      "cell_type": "code",
      "source": [
        "library(readxl)\n",
        "library(ggplot2)\n",
        "library(dplyr)"
      ],
      "metadata": {
        "id": "z8dDnMItix7B"
      },
      "execution_count": null,
      "outputs": []
    },
    {
      "cell_type": "code",
      "source": [
        "df <- read_excel(\"/content/Projeto Aplicado I - Dataset.xlsx\")"
      ],
      "metadata": {
        "id": "gPW5dGDEj_s8"
      },
      "execution_count": null,
      "outputs": []
    },
    {
      "cell_type": "code",
      "source": [
        "head(df)"
      ],
      "metadata": {
        "colab": {
          "base_uri": "https://localhost:8080/"
        },
        "collapsed": true,
        "id": "T9_LC5vhkQNC",
        "outputId": "7bbbf0fc-2992-4b58-db83-ee4a7961f867"
      },
      "execution_count": null,
      "outputs": [
        {
          "output_type": "display_data",
          "data": {
            "text/html": [
              "<table class=\"dataframe\">\n",
              "<caption>A tibble: 6 × 9</caption>\n",
              "<thead>\n",
              "\t<tr><th scope=col>Condição do produtor em relação às terras</th><th scope=col>Grupos de atividade econômica</th><th scope=col>Produto</th><th scope=col>Número de estabelecimentos agropecuários com agroindústria rural (Unidades)</th><th scope=col>Quantidade produzida na agroindústria rural</th><th scope=col>Quantidade vendida de produtos da agroindústria rural</th><th scope=col>unidade de medida</th><th scope=col>Valor da produção da agroindústria rural (Mil Reais)</th><th scope=col>Valor da venda de produtos da agroindústria rural (Mil Reais)</th></tr>\n",
              "\t<tr><th scope=col>&lt;chr&gt;</th><th scope=col>&lt;chr&gt;</th><th scope=col>&lt;chr&gt;</th><th scope=col>&lt;dbl&gt;</th><th scope=col>&lt;dbl&gt;</th><th scope=col>&lt;dbl&gt;</th><th scope=col>&lt;chr&gt;</th><th scope=col>&lt;dbl&gt;</th><th scope=col>&lt;dbl&gt;</th></tr>\n",
              "</thead>\n",
              "<tbody>\n",
              "\t<tr><td>Proprietário(a)</td><td>Produção de lavouras temporárias</td><td>Aguardente de cana  </td><td> 5954</td><td> 57702</td><td> 46628</td><td>Mil litros</td><td> 225012</td><td> 166062</td></tr>\n",
              "\t<tr><td>Proprietário(a)</td><td>Produção de lavouras temporárias</td><td>Algodão em pluma    </td><td>  117</td><td>410613</td><td>359804</td><td>Toneladas </td><td>2139603</td><td>1852549</td></tr>\n",
              "\t<tr><td>Proprietário(a)</td><td>Produção de lavouras temporárias</td><td>Caroço de algodão   </td><td>   27</td><td>147693</td><td>115080</td><td>Toneladas </td><td>  70725</td><td>  55952</td></tr>\n",
              "\t<tr><td>Proprietário(a)</td><td>Produção de lavouras temporárias</td><td>Arroz em grão       </td><td>10852</td><td> 28932</td><td> 22003</td><td>Toneladas </td><td>  43482</td><td>  28065</td></tr>\n",
              "\t<tr><td>Proprietário(a)</td><td>Produção de lavouras temporárias</td><td>Café torrado em grão</td><td>  224</td><td>    98</td><td>    79</td><td>Toneladas </td><td>    717</td><td>    591</td></tr>\n",
              "\t<tr><td>Proprietário(a)</td><td>Produção de lavouras temporárias</td><td>Café torrado e moído</td><td> 1567</td><td>   476</td><td>   411</td><td>Toneladas </td><td>   5560</td><td>   4690</td></tr>\n",
              "</tbody>\n",
              "</table>\n"
            ],
            "text/markdown": "\nA tibble: 6 × 9\n\n| Condição do produtor em relação às terras &lt;chr&gt; | Grupos de atividade econômica &lt;chr&gt; | Produto &lt;chr&gt; | Número de estabelecimentos agropecuários com agroindústria rural (Unidades) &lt;dbl&gt; | Quantidade produzida na agroindústria rural &lt;dbl&gt; | Quantidade vendida de produtos da agroindústria rural &lt;dbl&gt; | unidade de medida &lt;chr&gt; | Valor da produção da agroindústria rural (Mil Reais) &lt;dbl&gt; | Valor da venda de produtos da agroindústria rural (Mil Reais) &lt;dbl&gt; |\n|---|---|---|---|---|---|---|---|---|\n| Proprietário(a) | Produção de lavouras temporárias | Aguardente de cana   |  5954 |  57702 |  46628 | Mil litros |  225012 |  166062 |\n| Proprietário(a) | Produção de lavouras temporárias | Algodão em pluma     |   117 | 410613 | 359804 | Toneladas  | 2139603 | 1852549 |\n| Proprietário(a) | Produção de lavouras temporárias | Caroço de algodão    |    27 | 147693 | 115080 | Toneladas  |   70725 |   55952 |\n| Proprietário(a) | Produção de lavouras temporárias | Arroz em grão        | 10852 |  28932 |  22003 | Toneladas  |   43482 |   28065 |\n| Proprietário(a) | Produção de lavouras temporárias | Café torrado em grão |   224 |     98 |     79 | Toneladas  |     717 |     591 |\n| Proprietário(a) | Produção de lavouras temporárias | Café torrado e moído |  1567 |    476 |    411 | Toneladas  |    5560 |    4690 |\n\n",
            "text/latex": "A tibble: 6 × 9\n\\begin{tabular}{lllllllll}\n Condição do produtor em relação às terras & Grupos de atividade econômica & Produto & Número de estabelecimentos agropecuários com agroindústria rural (Unidades) & Quantidade produzida na agroindústria rural & Quantidade vendida de produtos da agroindústria rural & unidade de medida & Valor da produção da agroindústria rural (Mil Reais) & Valor da venda de produtos da agroindústria rural (Mil Reais)\\\\\n <chr> & <chr> & <chr> & <dbl> & <dbl> & <dbl> & <chr> & <dbl> & <dbl>\\\\\n\\hline\n\t Proprietário(a) & Produção de lavouras temporárias & Aguardente de cana   &  5954 &  57702 &  46628 & Mil litros &  225012 &  166062\\\\\n\t Proprietário(a) & Produção de lavouras temporárias & Algodão em pluma     &   117 & 410613 & 359804 & Toneladas  & 2139603 & 1852549\\\\\n\t Proprietário(a) & Produção de lavouras temporárias & Caroço de algodão    &    27 & 147693 & 115080 & Toneladas  &   70725 &   55952\\\\\n\t Proprietário(a) & Produção de lavouras temporárias & Arroz em grão        & 10852 &  28932 &  22003 & Toneladas  &   43482 &   28065\\\\\n\t Proprietário(a) & Produção de lavouras temporárias & Café torrado em grão &   224 &     98 &     79 & Toneladas  &     717 &     591\\\\\n\t Proprietário(a) & Produção de lavouras temporárias & Café torrado e moído &  1567 &    476 &    411 & Toneladas  &    5560 &    4690\\\\\n\\end{tabular}\n",
            "text/plain": [
              "  Condição do produtor em relação às terras Grupos de atividade econômica   \n",
              "1 Proprietário(a)                           Produção de lavouras temporárias\n",
              "2 Proprietário(a)                           Produção de lavouras temporárias\n",
              "3 Proprietário(a)                           Produção de lavouras temporárias\n",
              "4 Proprietário(a)                           Produção de lavouras temporárias\n",
              "5 Proprietário(a)                           Produção de lavouras temporárias\n",
              "6 Proprietário(a)                           Produção de lavouras temporárias\n",
              "  Produto             \n",
              "1 Aguardente de cana  \n",
              "2 Algodão em pluma    \n",
              "3 Caroço de algodão   \n",
              "4 Arroz em grão       \n",
              "5 Café torrado em grão\n",
              "6 Café torrado e moído\n",
              "  Número de estabelecimentos agropecuários com agroindústria rural (Unidades)\n",
              "1  5954                                                                      \n",
              "2   117                                                                      \n",
              "3    27                                                                      \n",
              "4 10852                                                                      \n",
              "5   224                                                                      \n",
              "6  1567                                                                      \n",
              "  Quantidade produzida na agroindústria rural\n",
              "1  57702                                     \n",
              "2 410613                                     \n",
              "3 147693                                     \n",
              "4  28932                                     \n",
              "5     98                                     \n",
              "6    476                                     \n",
              "  Quantidade vendida de produtos da agroindústria rural unidade de medida\n",
              "1  46628                                                Mil litros       \n",
              "2 359804                                                Toneladas        \n",
              "3 115080                                                Toneladas        \n",
              "4  22003                                                Toneladas        \n",
              "5     79                                                Toneladas        \n",
              "6    411                                                Toneladas        \n",
              "  Valor da produção da agroindústria rural (Mil Reais)\n",
              "1  225012                                             \n",
              "2 2139603                                             \n",
              "3   70725                                             \n",
              "4   43482                                             \n",
              "5     717                                             \n",
              "6    5560                                             \n",
              "  Valor da venda de produtos da agroindústria rural (Mil Reais)\n",
              "1  166062                                                      \n",
              "2 1852549                                                      \n",
              "3   55952                                                      \n",
              "4   28065                                                      \n",
              "5     591                                                      \n",
              "6    4690                                                      "
            ]
          },
          "metadata": {}
        }
      ]
    },
    {
      "cell_type": "markdown",
      "source": [
        "## Analise inicial dos dados\n",
        "\n",
        "*   Numero de exemplares\n",
        "*   Tipos de dados\n",
        "*   Medidas de posição e dispersão"
      ],
      "metadata": {
        "id": "m67sasYVmpHB"
      }
    },
    {
      "cell_type": "code",
      "source": [
        "## 1.0 Número de exemplares (linhas) e dimensões (colunas)\n",
        "nrow(df)\n",
        "ncol(df)"
      ],
      "metadata": {
        "colab": {
          "base_uri": "https://localhost:8080/"
        },
        "collapsed": true,
        "id": "IvhG9mlPm1rn",
        "outputId": "550aa41c-c146-4928-ec6a-c987131e68df"
      },
      "execution_count": null,
      "outputs": [
        {
          "output_type": "display_data",
          "data": {
            "text/html": [
              "2081"
            ],
            "text/markdown": "2081",
            "text/latex": "2081",
            "text/plain": [
              "[1] 2081"
            ]
          },
          "metadata": {}
        },
        {
          "output_type": "display_data",
          "data": {
            "text/html": [
              "9"
            ],
            "text/markdown": "9",
            "text/latex": "9",
            "text/plain": [
              "[1] 9"
            ]
          },
          "metadata": {}
        }
      ]
    },
    {
      "cell_type": "code",
      "source": [
        "## 2.0 Tipo dos dados\n",
        "str(df) #Alternativa 1\n",
        "sapply(df, class) #Alternativa 2"
      ],
      "metadata": {
        "colab": {
          "base_uri": "https://localhost:8080/"
        },
        "collapsed": true,
        "id": "wgalODyLnUzJ",
        "outputId": "0c99b70a-2223-452a-a3f3-42d658b2560b"
      },
      "execution_count": null,
      "outputs": [
        {
          "output_type": "stream",
          "name": "stdout",
          "text": [
            "tibble [2,081 × 9] (S3: tbl_df/tbl/data.frame)\n",
            " $ Condição do produtor em relação às terras                                  : chr [1:2081] \"Proprietário(a)\" \"Proprietário(a)\" \"Proprietário(a)\" \"Proprietário(a)\" ...\n",
            " $ Grupos de atividade econômica                                              : chr [1:2081] \"Produção de lavouras temporárias\" \"Produção de lavouras temporárias\" \"Produção de lavouras temporárias\" \"Produção de lavouras temporárias\" ...\n",
            " $ Produto                                                                    : chr [1:2081] \"Aguardente de cana\" \"Algodão em pluma\" \"Caroço de algodão\" \"Arroz em grão\" ...\n",
            " $ Número de estabelecimentos agropecuários com agroindústria rural (Unidades): num [1:2081] 5954 117 27 10852 224 ...\n",
            " $ Quantidade produzida na agroindústria rural                                : num [1:2081] 57702 410613 147693 28932 98 ...\n",
            " $ Quantidade vendida de produtos da agroindústria rural                      : num [1:2081] 46628 359804 115080 22003 79 ...\n",
            " $ unidade de medida                                                          : chr [1:2081] \"Mil litros\" \"Toneladas\" \"Toneladas\" \"Toneladas\" ...\n",
            " $ Valor da produção da agroindústria rural (Mil Reais)                       : num [1:2081] 225012 2139603 70725 43482 717 ...\n",
            " $ Valor da venda de produtos da agroindústria rural (Mil Reais)              : num [1:2081] 166062 1852549 55952 28065 591 ...\n"
          ]
        },
        {
          "output_type": "display_data",
          "data": {
            "text/html": [
              "<style>\n",
              ".dl-inline {width: auto; margin:0; padding: 0}\n",
              ".dl-inline>dt, .dl-inline>dd {float: none; width: auto; display: inline-block}\n",
              ".dl-inline>dt::after {content: \":\\0020\"; padding-right: .5ex}\n",
              ".dl-inline>dt:not(:first-of-type) {padding-left: .5ex}\n",
              "</style><dl class=dl-inline><dt>Condição do produtor em relação às terras</dt><dd>'character'</dd><dt>Grupos de atividade econômica</dt><dd>'character'</dd><dt>Produto</dt><dd>'character'</dd><dt>Número de estabelecimentos agropecuários com agroindústria rural (Unidades)</dt><dd>'numeric'</dd><dt>Quantidade produzida na agroindústria rural</dt><dd>'numeric'</dd><dt>Quantidade vendida de produtos da agroindústria rural</dt><dd>'numeric'</dd><dt>unidade de medida</dt><dd>'character'</dd><dt>Valor da produção da agroindústria rural (Mil Reais)</dt><dd>'numeric'</dd><dt>Valor da venda de produtos da agroindústria rural (Mil Reais)</dt><dd>'numeric'</dd></dl>\n"
            ],
            "text/markdown": "Condição do produtor em relação às terras\n:   'character'Grupos de atividade econômica\n:   'character'Produto\n:   'character'Número de estabelecimentos agropecuários com agroindústria rural (Unidades)\n:   'numeric'Quantidade produzida na agroindústria rural\n:   'numeric'Quantidade vendida de produtos da agroindústria rural\n:   'numeric'unidade de medida\n:   'character'Valor da produção da agroindústria rural (Mil Reais)\n:   'numeric'Valor da venda de produtos da agroindústria rural (Mil Reais)\n:   'numeric'\n\n",
            "text/latex": "\\begin{description*}\n\\item[Condição do produtor em relação às terras] 'character'\n\\item[Grupos de atividade econômica] 'character'\n\\item[Produto] 'character'\n\\item[Número de estabelecimentos agropecuários com agroindústria rural (Unidades)] 'numeric'\n\\item[Quantidade produzida na agroindústria rural] 'numeric'\n\\item[Quantidade vendida de produtos da agroindústria rural] 'numeric'\n\\item[unidade de medida] 'character'\n\\item[Valor da produção da agroindústria rural (Mil Reais)] 'numeric'\n\\item[Valor da venda de produtos da agroindústria rural (Mil Reais)] 'numeric'\n\\end{description*}\n",
            "text/plain": [
              "                                  Condição do produtor em relação às terras \n",
              "                                                                \"character\" \n",
              "                                              Grupos de atividade econômica \n",
              "                                                                \"character\" \n",
              "                                                                    Produto \n",
              "                                                                \"character\" \n",
              "Número de estabelecimentos agropecuários com agroindústria rural (Unidades) \n",
              "                                                                  \"numeric\" \n",
              "                                Quantidade produzida na agroindústria rural \n",
              "                                                                  \"numeric\" \n",
              "                      Quantidade vendida de produtos da agroindústria rural \n",
              "                                                                  \"numeric\" \n",
              "                                                          unidade de medida \n",
              "                                                                \"character\" \n",
              "                       Valor da produção da agroindústria rural (Mil Reais) \n",
              "                                                                  \"numeric\" \n",
              "              Valor da venda de produtos da agroindústria rural (Mil Reais) \n",
              "                                                                  \"numeric\" "
            ]
          },
          "metadata": {}
        }
      ]
    },
    {
      "cell_type": "code",
      "source": [
        "## 3.0 Medidas de posição e dispersão\n",
        "summary(df)"
      ],
      "metadata": {
        "colab": {
          "base_uri": "https://localhost:8080/"
        },
        "collapsed": true,
        "id": "QbLaXdWfnqAd",
        "outputId": "79cf1fff-6fde-425a-a70c-76de74f8eb2a"
      },
      "execution_count": null,
      "outputs": [
        {
          "output_type": "display_data",
          "data": {
            "text/plain": [
              " Condição do produtor em relação às terras Grupos de atividade econômica\n",
              " Length:2081                               Length:2081                  \n",
              " Class :character                          Class :character             \n",
              " Mode  :character                          Mode  :character             \n",
              "                                                                        \n",
              "                                                                        \n",
              "                                                                        \n",
              "                                                                        \n",
              "   Produto         \n",
              " Length:2081       \n",
              " Class :character  \n",
              " Mode  :character  \n",
              "                   \n",
              "                   \n",
              "                   \n",
              "                   \n",
              " Número de estabelecimentos agropecuários com agroindústria rural (Unidades)\n",
              " Min.   :      0                                                            \n",
              " 1st Qu.:      0                                                            \n",
              " Median :      4                                                            \n",
              " Mean   :   1468                                                            \n",
              " 3rd Qu.:     59                                                            \n",
              " Max.   :1527056                                                            \n",
              " NA's   :1                                                                  \n",
              " Quantidade produzida na agroindústria rural\n",
              " Min.   :      0                            \n",
              " 1st Qu.:      0                            \n",
              " Median :      0                            \n",
              " Mean   :   5982                            \n",
              " 3rd Qu.:     29                            \n",
              " Max.   :6220789                            \n",
              " NA's   :1                                  \n",
              " Quantidade vendida de produtos da agroindústria rural unidade de medida \n",
              " Min.   :      0                                       Length:2081       \n",
              " 1st Qu.:      0                                       Class :character  \n",
              " Median :      0                                       Mode  :character  \n",
              " Mean   :   5117                                                         \n",
              " 3rd Qu.:     13                                                         \n",
              " Max.   :5321449                                                         \n",
              " NA's   :1                                                               \n",
              " Valor da produção da agroindústria rural (Mil Reais)\n",
              " Min.   :       0                                    \n",
              " 1st Qu.:       0                                    \n",
              " Median :       0                                    \n",
              " Mean   :   14176                                    \n",
              " 3rd Qu.:     172                                    \n",
              " Max.   :14742945                                    \n",
              " NA's   :1                                           \n",
              " Valor da venda de produtos da agroindústria rural (Mil Reais)\n",
              " Min.   :       0                                             \n",
              " 1st Qu.:       0                                             \n",
              " Median :       0                                             \n",
              " Mean   :   10343                                             \n",
              " 3rd Qu.:      80                                             \n",
              " Max.   :10756528                                             \n",
              " NA's   :1                                                    "
            ]
          },
          "metadata": {}
        }
      ]
    },
    {
      "cell_type": "markdown",
      "source": [
        "#4. Distribuição e frequência"
      ],
      "metadata": {
        "id": "umR-DLYBv46x"
      }
    },
    {
      "cell_type": "code",
      "source": [
        "## 4.1 Distribuição e frequência\n",
        "data_summary <- aggregate(\n",
        "  cbind(\n",
        "    `Quantidade produzida na agroindústria rural`\n",
        "  ) ~ `Produto` + `unidade de medida`,\n",
        "  data = df,\n",
        "  FUN = sum,\n",
        "  na.rm = TRUE\n",
        ")\n",
        "\n",
        "print(data_summary)\n"
      ],
      "metadata": {
        "colab": {
          "base_uri": "https://localhost:8080/"
        },
        "collapsed": true,
        "id": "HoLhSZFKolR3",
        "outputId": "0ff34db7-d939-4fe9-f14d-eb257ee22899"
      },
      "execution_count": null,
      "outputs": [
        {
          "output_type": "stream",
          "name": "stdout",
          "text": [
            "                                 Produto  unidade de medida\n",
            "1                     Aguardente de cana         Mil litros\n",
            "2                       Algodão em pluma         Mil litros\n",
            "3                                Cajuína         Mil litros\n",
            "4                Carne de bovinos(verde)         Mil litros\n",
            "5                         Creme de leite         Mil litros\n",
            "6                                Licores         Mil litros\n",
            "7                               Manteiga         Mil litros\n",
            "8                                 Melado         Mil litros\n",
            "9                         Óleos vegetais         Mil litros\n",
            "10               Pães, bolos e biscoitos         Mil litros\n",
            "11                       Sucos de frutas         Mil litros\n",
            "12                          Vinho de uva         Mil litros\n",
            "13                       Outros produtos Mil metros cúbicos\n",
            "14                   Produtos de madeira Mil metros cúbicos\n",
            "15                    Aguardente de cana          Toneladas\n",
            "16                      Algodão em pluma          Toneladas\n",
            "17                         Arroz em grão          Toneladas\n",
            "18                  Café torrado e moído          Toneladas\n",
            "19                  Café torrado em grão          Toneladas\n",
            "20                               Cajuína          Toneladas\n",
            "21               Carne de bovinos(verde)          Toneladas\n",
            "22        Carne de outros animais(verde)          Toneladas\n",
            "23                Carne de suínos(verde)          Toneladas\n",
            "24        Carne tratada(de sol, salgada)          Toneladas\n",
            "25                     Caroço de algodão          Toneladas\n",
            "26                        Carvão vegetal          Toneladas\n",
            "27                        Couros e peles          Toneladas\n",
            "28                        Creme de leite          Toneladas\n",
            "29                       Doces e geléias          Toneladas\n",
            "30 Embutidos(linguiças, salsichas, etc.)          Toneladas\n",
            "31                   Farinha de mandioca          Toneladas\n",
            "32                         Fubá de milho          Toneladas\n",
            "33                 Fumo em rolo ou corda          Toneladas\n",
            "34                       Goma ou tapioca          Toneladas\n",
            "35      Legumes e verduras (processadas)          Toneladas\n",
            "36                               Licores          Toneladas\n",
            "37                              Manteiga          Toneladas\n",
            "38                                Melado          Toneladas\n",
            "39                       Outros produtos          Toneladas\n",
            "40               Pães, bolos e biscoitos          Toneladas\n",
            "41                       Polpa de frutas          Toneladas\n",
            "42                   Produtos de madeira          Toneladas\n",
            "43                    Queijo e requeijão          Toneladas\n",
            "44                              Rapadura          Toneladas\n",
            "45                       Sucos de frutas          Toneladas\n",
            "   Quantidade produzida na agroindústria rural\n",
            "1                                        57702\n",
            "2                                       135428\n",
            "3                                           81\n",
            "4                                        36061\n",
            "5                                          675\n",
            "6                                         1334\n",
            "7                                         1520\n",
            "8                                         6529\n",
            "9                                         4585\n",
            "10                                       14170\n",
            "11                                        4355\n",
            "12                                       24149\n",
            "13                                      207807\n",
            "14                                         379\n",
            "15                                       25342\n",
            "16                                      410613\n",
            "17                                       45263\n",
            "18                                        5785\n",
            "19                                        9583\n",
            "20                                        1605\n",
            "21                                       17602\n",
            "22                                       29304\n",
            "23                                       37493\n",
            "24                                         410\n",
            "25                                      147693\n",
            "26                                     3758073\n",
            "27                                        1387\n",
            "28                                          55\n",
            "29                                       15455\n",
            "30                                        7268\n",
            "31                                      706656\n",
            "32                                       35073\n",
            "33                                        6848\n",
            "34                                       36534\n",
            "35                                       21600\n",
            "36                                         710\n",
            "37                                         118\n",
            "38                                        2994\n",
            "39                                       90726\n",
            "40                                       10630\n",
            "41                                       37100\n",
            "42                                        5528\n",
            "43                                      222634\n",
            "44                                       22520\n",
            "45                                       13412\n"
          ]
        }
      ]
    },
    {
      "cell_type": "code",
      "source": [
        "## 4.2 Número de estabelecimentos agropecuários por produto\n",
        "\n",
        "data_estabelecimentos <- aggregate(\n",
        "  `Número de estabelecimentos agropecuários com agroindústria rural (Unidades)` ~ `Produto`,\n",
        "  data = df,\n",
        "  FUN = sum,\n",
        "  na.rm = TRUE\n",
        ")\n",
        "\n",
        "data_estabelecimentos$Porcentagem <- (data_estabelecimentos$`Número de estabelecimentos agropecuários com agroindústria rural (Unidades)` /\n",
        "                                       sum(data_estabelecimentos$`Número de estabelecimentos agropecuários com agroindústria rural (Unidades)`)) * 100\n",
        "result_total_estabelecimento <- data.frame(\n",
        "    Produto = data_estabelecimentos$Produto,\n",
        "    Total_Estabelecimentos = data_estabelecimentos$`Número de estabelecimentos agropecuários com agroindústria rural (Unidades)`,\n",
        "    Porcentagem = round(data_estabelecimentos$Porcentagem, 2)\n",
        "  )\n",
        "print(result_total_estabelecimento)"
      ],
      "metadata": {
        "colab": {
          "base_uri": "https://localhost:8080/"
        },
        "collapsed": true,
        "id": "OgwTnTLzrzbr",
        "outputId": "49f4228c-8b3f-4b29-d885-998684ca5cb2"
      },
      "execution_count": null,
      "outputs": [
        {
          "output_type": "stream",
          "name": "stdout",
          "text": [
            "                                 Produto Total_Estabelecimentos Porcentagem\n",
            "1                     Aguardente de cana                  11028        0.72\n",
            "2                       Algodão em pluma                    266        0.02\n",
            "3                          Arroz em grão                  34631        2.27\n",
            "4                   Café torrado e moído                  11318        0.74\n",
            "5                   Café torrado em grão                   1571        0.10\n",
            "6                                Cajuína                    780        0.05\n",
            "7                Carne de bovinos(verde)                 120561        7.89\n",
            "8         Carne de outros animais(verde)                 121695        7.97\n",
            "9                 Carne de suínos(verde)                 147543        9.66\n",
            "10        Carne tratada(de sol, salgada)                   3120        0.20\n",
            "11                     Caroço de algodão                     51        0.00\n",
            "12                        Carvão vegetal                  57772        3.78\n",
            "13                        Couros e peles                  10355        0.68\n",
            "14                        Creme de leite                   2317        0.15\n",
            "15                       Doces e geléias                  65506        4.29\n",
            "16 Embutidos(linguiças, salsichas, etc.)                  44870        2.94\n",
            "17                   Farinha de mandioca                 355207       23.26\n",
            "18                         Fubá de milho                   5344        0.35\n",
            "19                 Fumo em rolo ou corda                   7319        0.48\n",
            "20                       Goma ou tapioca                  71306        4.67\n",
            "21      Legumes e verduras (processadas)                   9636        0.63\n",
            "22                               Licores                   1617        0.11\n",
            "23                              Manteiga                  11511        0.75\n",
            "24                                Melado                  20298        1.33\n",
            "25                        Óleos vegetais                  18009        1.18\n",
            "26                       Outros produtos                  38955        2.55\n",
            "27               Pães, bolos e biscoitos                  72036        4.72\n",
            "28                       Polpa de frutas                  25177        1.65\n",
            "29                   Produtos de madeira                   2986        0.20\n",
            "30                    Queijo e requeijão                 175198       11.47\n",
            "31                              Rapadura                  18161        1.19\n",
            "32                       Sucos de frutas                  52831        3.46\n",
            "33                          Vinho de uva                   8081        0.53\n"
          ]
        }
      ]
    },
    {
      "cell_type": "code",
      "source": [
        "## 4.3 Valor da venda e sua porcentagem\n",
        "\n",
        "data_valor_venda <- aggregate(\n",
        "  `Valor da venda de produtos da agroindústria rural (Mil Reais)` ~ `Produto`,\n",
        "  data = df,\n",
        "  FUN = sum,\n",
        "  na.rm = TRUE\n",
        ")\n",
        "data_valor_venda$Porcentagem <- (data_valor_venda$`Valor da venda de produtos da agroindústria rural (Mil Reais)` / sum(data_valor_venda$`Valor da venda de produtos da agroindústria rural (Mil Reais)`)) * 100\n",
        "\n",
        "result_total_valor_vendas <- data.frame(\n",
        "    Produto = data_valor_venda$Produto,\n",
        "    Ttl_vlr_venda_mil_brl = data_valor_venda$`Valor da venda de produtos da agroindústria rural (Mil Reais)`,\n",
        "    Porcentagem = round(data_valor_venda$Porcentagem, 2)\n",
        "  )\n",
        "\n",
        "print(result_total_valor_vendas)\n"
      ],
      "metadata": {
        "colab": {
          "base_uri": "https://localhost:8080/"
        },
        "collapsed": true,
        "id": "SX_GbyaowFhR",
        "outputId": "47da8b75-9b46-4433-8665-3a430cdeb35f"
      },
      "execution_count": null,
      "outputs": [
        {
          "output_type": "stream",
          "name": "stdout",
          "text": [
            "                                 Produto Ttl_vlr_venda_mil_brl Porcentagem\n",
            "1                     Aguardente de cana                264399        2.46\n",
            "2                       Algodão em pluma               2533833       23.56\n",
            "3                          Arroz em grão                 36316        0.34\n",
            "4                   Café torrado e moído                 57473        0.53\n",
            "5                   Café torrado em grão                 49135        0.46\n",
            "6                                Cajuína                  6553        0.06\n",
            "7                Carne de bovinos(verde)                207880        1.93\n",
            "8         Carne de outros animais(verde)                126749        1.18\n",
            "9                 Carne de suínos(verde)                 94794        0.88\n",
            "10        Carne tratada(de sol, salgada)                  3197        0.03\n",
            "11                     Caroço de algodão                 55952        0.52\n",
            "12                        Carvão vegetal               1835863       17.07\n",
            "13                        Couros e peles                  2256        0.02\n",
            "14                        Creme de leite                  5330        0.05\n",
            "15                       Doces e geléias                108895        1.01\n",
            "16 Embutidos(linguiças, salsichas, etc.)                 54747        0.51\n",
            "17                   Farinha de mandioca               1356037       12.61\n",
            "18                         Fubá de milho                 11833        0.11\n",
            "19                 Fumo em rolo ou corda                 20782        0.19\n",
            "20                       Goma ou tapioca                 92673        0.86\n",
            "21      Legumes e verduras (processadas)                 64410        0.60\n",
            "22                               Licores                  2255        0.02\n",
            "23                              Manteiga                 17573        0.16\n",
            "24                                Melado                 31173        0.29\n",
            "25                        Óleos vegetais                 19359        0.18\n",
            "26                       Outros produtos                582777        5.42\n",
            "27               Pães, bolos e biscoitos                 78622        0.73\n",
            "28                       Polpa de frutas                174571        1.62\n",
            "29                   Produtos de madeira                142229        1.32\n",
            "30                    Queijo e requeijão               2535233       23.57\n",
            "31                              Rapadura                 74370        0.69\n",
            "32                       Sucos de frutas                 39497        0.37\n",
            "33                          Vinho de uva                 69762        0.65\n"
          ]
        }
      ]
    },
    {
      "cell_type": "code",
      "source": [
        "## 4.4 Valor da produção e sua porcentagem\n",
        "data_valor_producao <- aggregate(\n",
        "  `Valor da produção da agroindústria rural (Mil Reais)` ~ `Produto`,\n",
        "  data = df,\n",
        "  FUN = sum,\n",
        "  na.rm = TRUE\n",
        ")\n",
        "data_valor_producao$Porcentagem <- (data_valor_producao$`Valor da produção da agroindústria rural (Mil Reais)` / sum(data_valor_producao$`Valor da produção da agroindústria rural (Mil Reais)`)) * 100\n",
        "\n",
        "result_total_valor_prod <- data.frame(\n",
        "    Produto = data_valor_producao$Produto,\n",
        "    Ttl_vlr_prod_mil_brl = data_valor_producao$`Valor da produção da agroindústria rural (Mil Reais)`,\n",
        "    Porcentagem = round(data_valor_producao$Porcentagem, 2)\n",
        "  )\n",
        "\n",
        "print(result_total_valor_prod)"
      ],
      "metadata": {
        "colab": {
          "base_uri": "https://localhost:8080/"
        },
        "collapsed": true,
        "id": "kSTvJgJiyJy2",
        "outputId": "1906b511-c5db-4745-dab9-819a8b33df19"
      },
      "execution_count": null,
      "outputs": [
        {
          "output_type": "stream",
          "name": "stdout",
          "text": [
            "                                 Produto Ttl_vlr_prod_mil_brl Porcentagem\n",
            "1                     Aguardente de cana               351940        2.39\n",
            "2                       Algodão em pluma              2851891       19.34\n",
            "3                          Arroz em grão                78227        0.53\n",
            "4                   Café torrado e moído                70441        0.48\n",
            "5                   Café torrado em grão                68185        0.46\n",
            "6                                Cajuína                 8223        0.06\n",
            "7                Carne de bovinos(verde)               568044        3.85\n",
            "8         Carne de outros animais(verde)               282898        1.92\n",
            "9                 Carne de suínos(verde)               338398        2.30\n",
            "10        Carne tratada(de sol, salgada)                 5974        0.04\n",
            "11                     Caroço de algodão                70725        0.48\n",
            "12                        Carvão vegetal              1984460       13.46\n",
            "13                        Couros e peles                 2434        0.02\n",
            "14                        Creme de leite                 7192        0.05\n",
            "15                       Doces e geléias               135597        0.92\n",
            "16 Embutidos(linguiças, salsichas, etc.)               103471        0.70\n",
            "17                   Farinha de mandioca              1898095       12.87\n",
            "18                         Fubá de milho                68393        0.46\n",
            "19                 Fumo em rolo ou corda                43404        0.29\n",
            "20                       Goma ou tapioca               135441        0.92\n",
            "21      Legumes e verduras (processadas)                72889        0.49\n",
            "22                               Licores                 9587        0.07\n",
            "23                              Manteiga                22609        0.15\n",
            "24                                Melado                42791        0.29\n",
            "25                        Óleos vegetais                28259        0.19\n",
            "26                       Outros produtos              1779098       12.07\n",
            "27               Pães, bolos e biscoitos               213279        1.45\n",
            "28                       Polpa de frutas               202740        1.38\n",
            "29                   Produtos de madeira               164202        1.11\n",
            "30                    Queijo e requeijão              2811163       19.07\n",
            "31                              Rapadura                95272        0.65\n",
            "32                       Sucos de frutas               105896        0.72\n",
            "33                          Vinho de uva               121727        0.83\n"
          ]
        }
      ]
    },
    {
      "cell_type": "code",
      "source": [
        "## 4.5 Número de estabelecimentos agropecuários por condição do produtor em relação as terras\n",
        "data_estab_condicao_produtor <- aggregate(\n",
        "  `Número de estabelecimentos agropecuários com agroindústria rural (Unidades)` ~ `Condição do produtor em relação às terras`,\n",
        "  data = df,\n",
        "  FUN = sum,\n",
        "  na.rm = TRUE\n",
        ")\n",
        "\n",
        "data_estab_condicao_produtor$Porcentagem <- (data_estab_condicao_produtor$`Número de estabelecimentos agropecuários com agroindústria rural (Unidades)` /\n",
        "                                       sum(data_estab_condicao_produtor$`Número de estabelecimentos agropecuários com agroindústria rural (Unidades)`)) * 100\n",
        "\n",
        "result_total_estab_condicao_produtor <- data.frame(\n",
        "    Condição_produtor_relação__terras = data_estab_condicao_produtor$`Condição do produtor em relação às terras`,\n",
        "    Total_Estabelecimentos = data_estab_condicao_produtor$`Número de estabelecimentos agropecuários com agroindústria rural (Unidades)`,\n",
        "    Porcentagem = round(data_estab_condicao_produtor$Porcentagem, 2)\n",
        "  )\n",
        "\n",
        "print(result_total_estab_condicao_produtor)"
      ],
      "metadata": {
        "colab": {
          "base_uri": "https://localhost:8080/"
        },
        "id": "PmE6DCWT082o",
        "outputId": "c7cdd531-5cfa-47c2-e69e-2fd720066ead"
      },
      "execution_count": null,
      "outputs": [
        {
          "output_type": "stream",
          "name": "stdout",
          "text": [
            "                                  Condição_produtor_relação__terras Total_Estabelecimentos Porcentagem\n",
            "1                                                   Arrendatário(a)                  31839        2.08\n",
            "2                                                    Comodatário(a)                  63438        4.15\n",
            "3 Concessionário(a) ou assentado(a) aguardando titulação definitiva                  95826        6.28\n",
            "4                                                          Ocupante                  46178        3.02\n",
            "5                                                       Parceiro(a)                  25927        1.70\n",
            "6                                                 Produtor sem área                  23449        1.54\n",
            "7                                                   Proprietário(a)                1240399       81.23\n"
          ]
        }
      ]
    },
    {
      "cell_type": "markdown",
      "source": [
        "# Correlações, valores perdidos, anomalias e outliers\n",
        "\n"
      ],
      "metadata": {
        "id": "Arnt4Amv3lvs"
      }
    },
    {
      "cell_type": "code",
      "source": [
        "## 5.0 Correlações\n",
        "numeric_cols <- sapply(df, is.numeric)\n",
        "cor(df[, numeric_cols], use=\"complete.obs\")"
      ],
      "metadata": {
        "colab": {
          "base_uri": "https://localhost:8080/",
          "height": 362
        },
        "id": "dNRBUu3Q3sUw",
        "outputId": "bf86bbc0-8b60-44e6-b903-f2d60567a21b"
      },
      "execution_count": null,
      "outputs": [
        {
          "output_type": "display_data",
          "data": {
            "text/html": [
              "<table class=\"dataframe\">\n",
              "<caption>A matrix: 5 × 5 of type dbl</caption>\n",
              "<thead>\n",
              "\t<tr><th></th><th scope=col>Número de estabelecimentos agropecuários com agroindústria rural (Unidades)</th><th scope=col>Quantidade produzida na agroindústria rural</th><th scope=col>Quantidade vendida de produtos da agroindústria rural</th><th scope=col>Valor da produção da agroindústria rural (Mil Reais)</th><th scope=col>Valor da venda de produtos da agroindústria rural (Mil Reais)</th></tr>\n",
              "</thead>\n",
              "<tbody>\n",
              "\t<tr><th scope=row>Número de estabelecimentos agropecuários com agroindústria rural (Unidades)</th><td>1.0000000</td><td>0.9085529</td><td>0.8962767</td><td>0.9767605</td><td>0.9675496</td></tr>\n",
              "\t<tr><th scope=row>Quantidade produzida na agroindústria rural</th><td>0.9085529</td><td>1.0000000</td><td>0.9994630</td><td>0.9390633</td><td>0.9406525</td></tr>\n",
              "\t<tr><th scope=row>Quantidade vendida de produtos da agroindústria rural</th><td>0.8962767</td><td>0.9994630</td><td>1.0000000</td><td>0.9295282</td><td>0.9326341</td></tr>\n",
              "\t<tr><th scope=row>Valor da produção da agroindústria rural (Mil Reais)</th><td>0.9767605</td><td>0.9390633</td><td>0.9295282</td><td>1.0000000</td><td>0.9970688</td></tr>\n",
              "\t<tr><th scope=row>Valor da venda de produtos da agroindústria rural (Mil Reais)</th><td>0.9675496</td><td>0.9406525</td><td>0.9326341</td><td>0.9970688</td><td>1.0000000</td></tr>\n",
              "</tbody>\n",
              "</table>\n"
            ],
            "text/markdown": "\nA matrix: 5 × 5 of type dbl\n\n| <!--/--> | Número de estabelecimentos agropecuários com agroindústria rural (Unidades) | Quantidade produzida na agroindústria rural | Quantidade vendida de produtos da agroindústria rural | Valor da produção da agroindústria rural (Mil Reais) | Valor da venda de produtos da agroindústria rural (Mil Reais) |\n|---|---|---|---|---|---|\n| Número de estabelecimentos agropecuários com agroindústria rural (Unidades) | 1.0000000 | 0.9085529 | 0.8962767 | 0.9767605 | 0.9675496 |\n| Quantidade produzida na agroindústria rural | 0.9085529 | 1.0000000 | 0.9994630 | 0.9390633 | 0.9406525 |\n| Quantidade vendida de produtos da agroindústria rural | 0.8962767 | 0.9994630 | 1.0000000 | 0.9295282 | 0.9326341 |\n| Valor da produção da agroindústria rural (Mil Reais) | 0.9767605 | 0.9390633 | 0.9295282 | 1.0000000 | 0.9970688 |\n| Valor da venda de produtos da agroindústria rural (Mil Reais) | 0.9675496 | 0.9406525 | 0.9326341 | 0.9970688 | 1.0000000 |\n\n",
            "text/latex": "A matrix: 5 × 5 of type dbl\n\\begin{tabular}{r|lllll}\n  & Número de estabelecimentos agropecuários com agroindústria rural (Unidades) & Quantidade produzida na agroindústria rural & Quantidade vendida de produtos da agroindústria rural & Valor da produção da agroindústria rural (Mil Reais) & Valor da venda de produtos da agroindústria rural (Mil Reais)\\\\\n\\hline\n\tNúmero de estabelecimentos agropecuários com agroindústria rural (Unidades) & 1.0000000 & 0.9085529 & 0.8962767 & 0.9767605 & 0.9675496\\\\\n\tQuantidade produzida na agroindústria rural & 0.9085529 & 1.0000000 & 0.9994630 & 0.9390633 & 0.9406525\\\\\n\tQuantidade vendida de produtos da agroindústria rural & 0.8962767 & 0.9994630 & 1.0000000 & 0.9295282 & 0.9326341\\\\\n\tValor da produção da agroindústria rural (Mil Reais) & 0.9767605 & 0.9390633 & 0.9295282 & 1.0000000 & 0.9970688\\\\\n\tValor da venda de produtos da agroindústria rural (Mil Reais) & 0.9675496 & 0.9406525 & 0.9326341 & 0.9970688 & 1.0000000\\\\\n\\end{tabular}\n",
            "text/plain": [
              "                                                                            Número de estabelecimentos agropecuários com agroindústria rural (Unidades) Quantidade produzida na agroindústria rural\n",
              "Número de estabelecimentos agropecuários com agroindústria rural (Unidades) 1.0000000                                                                   0.9085529                                  \n",
              "Quantidade produzida na agroindústria rural                                 0.9085529                                                                   1.0000000                                  \n",
              "Quantidade vendida de produtos da agroindústria rural                       0.8962767                                                                   0.9994630                                  \n",
              "Valor da produção da agroindústria rural (Mil Reais)                        0.9767605                                                                   0.9390633                                  \n",
              "Valor da venda de produtos da agroindústria rural (Mil Reais)               0.9675496                                                                   0.9406525                                  \n",
              "                                                                            Quantidade vendida de produtos da agroindústria rural Valor da produção da agroindústria rural (Mil Reais)\n",
              "Número de estabelecimentos agropecuários com agroindústria rural (Unidades) 0.8962767                                             0.9767605                                           \n",
              "Quantidade produzida na agroindústria rural                                 0.9994630                                             0.9390633                                           \n",
              "Quantidade vendida de produtos da agroindústria rural                       1.0000000                                             0.9295282                                           \n",
              "Valor da produção da agroindústria rural (Mil Reais)                        0.9295282                                             1.0000000                                           \n",
              "Valor da venda de produtos da agroindústria rural (Mil Reais)               0.9326341                                             0.9970688                                           \n",
              "                                                                            Valor da venda de produtos da agroindústria rural (Mil Reais)\n",
              "Número de estabelecimentos agropecuários com agroindústria rural (Unidades) 0.9675496                                                    \n",
              "Quantidade produzida na agroindústria rural                                 0.9406525                                                    \n",
              "Quantidade vendida de produtos da agroindústria rural                       0.9326341                                                    \n",
              "Valor da produção da agroindústria rural (Mil Reais)                        0.9970688                                                    \n",
              "Valor da venda de produtos da agroindústria rural (Mil Reais)               1.0000000                                                    "
            ]
          },
          "metadata": {}
        }
      ]
    },
    {
      "cell_type": "code",
      "source": [
        "## 6.0 Valores perdidos ou incorretos\n",
        "\n",
        "sum(is.na(df))\n",
        "colSums(is.na(df))\n"
      ],
      "metadata": {
        "colab": {
          "base_uri": "https://localhost:8080/",
          "height": 86
        },
        "id": "zeZu1Kcf5E7L",
        "outputId": "d8f06c60-db1f-4593-92f7-d71109e5e16b"
      },
      "execution_count": null,
      "outputs": [
        {
          "output_type": "display_data",
          "data": {
            "text/html": [
              "13"
            ],
            "text/markdown": "13",
            "text/latex": "13",
            "text/plain": [
              "[1] 13"
            ]
          },
          "metadata": {}
        },
        {
          "output_type": "display_data",
          "data": {
            "text/html": [
              "<style>\n",
              ".dl-inline {width: auto; margin:0; padding: 0}\n",
              ".dl-inline>dt, .dl-inline>dd {float: none; width: auto; display: inline-block}\n",
              ".dl-inline>dt::after {content: \":\\0020\"; padding-right: .5ex}\n",
              ".dl-inline>dt:not(:first-of-type) {padding-left: .5ex}\n",
              "</style><dl class=dl-inline><dt>Condição do produtor em relação às terras</dt><dd>2</dd><dt>Grupos de atividade econômica</dt><dd>2</dd><dt>Produto</dt><dd>2</dd><dt>Número de estabelecimentos agropecuários com agroindústria rural (Unidades)</dt><dd>1</dd><dt>Quantidade produzida na agroindústria rural</dt><dd>1</dd><dt>Quantidade vendida de produtos da agroindústria rural</dt><dd>1</dd><dt>unidade de medida</dt><dd>2</dd><dt>Valor da produção da agroindústria rural (Mil Reais)</dt><dd>1</dd><dt>Valor da venda de produtos da agroindústria rural (Mil Reais)</dt><dd>1</dd></dl>\n"
            ],
            "text/markdown": "Condição do produtor em relação às terras\n:   2Grupos de atividade econômica\n:   2Produto\n:   2Número de estabelecimentos agropecuários com agroindústria rural (Unidades)\n:   1Quantidade produzida na agroindústria rural\n:   1Quantidade vendida de produtos da agroindústria rural\n:   1unidade de medida\n:   2Valor da produção da agroindústria rural (Mil Reais)\n:   1Valor da venda de produtos da agroindústria rural (Mil Reais)\n:   1\n\n",
            "text/latex": "\\begin{description*}\n\\item[Condição do produtor em relação às terras] 2\n\\item[Grupos de atividade econômica] 2\n\\item[Produto] 2\n\\item[Número de estabelecimentos agropecuários com agroindústria rural (Unidades)] 1\n\\item[Quantidade produzida na agroindústria rural] 1\n\\item[Quantidade vendida de produtos da agroindústria rural] 1\n\\item[unidade de medida] 2\n\\item[Valor da produção da agroindústria rural (Mil Reais)] 1\n\\item[Valor da venda de produtos da agroindústria rural (Mil Reais)] 1\n\\end{description*}\n",
            "text/plain": [
              "                                  Condição do produtor em relação às terras                                               Grupos de atividade econômica \n",
              "                                                                          2                                                                           2 \n",
              "                                                                    Produto Número de estabelecimentos agropecuários com agroindústria rural (Unidades) \n",
              "                                                                          2                                                                           1 \n",
              "                                Quantidade produzida na agroindústria rural                       Quantidade vendida de produtos da agroindústria rural \n",
              "                                                                          1                                                                           1 \n",
              "                                                          unidade de medida                        Valor da produção da agroindústria rural (Mil Reais) \n",
              "                                                                          2                                                                           1 \n",
              "              Valor da venda de produtos da agroindústria rural (Mil Reais) \n",
              "                                                                          1 "
            ]
          },
          "metadata": {}
        }
      ]
    },
    {
      "cell_type": "code",
      "source": [
        "## 7.0 Identificação de outliers\n",
        "\n",
        "## 7.1 Outliers de numero de estabelecimentos por condicao do produtor\n",
        "data_condicao_terras <- aggregate(\n",
        "  `Número de estabelecimentos agropecuários com agroindústria rural (Unidades)` ~ `Condição do produtor em relação às terras`,\n",
        "  data = df,\n",
        "  FUN = function(x) c(Media = mean(x, na.rm = TRUE), Minimo = min(x, na.rm = TRUE), Maximo = max(x, na.rm = TRUE))\n",
        ")\n",
        "print(data_condicao_terras)"
      ],
      "metadata": {
        "colab": {
          "base_uri": "https://localhost:8080/"
        },
        "id": "66DWcNfb5Tfs",
        "outputId": "e48b9b22-4333-4c05-f70e-f7e9a3f338b2"
      },
      "execution_count": null,
      "outputs": [
        {
          "output_type": "stream",
          "name": "stdout",
          "text": [
            "                          Condição do produtor em relação às terras Número de estabelecimentos agropecuários com agroindústria rural (Unidades).Media\n",
            "1                                                   Arrendatário(a)                                                                         107.20202\n",
            "2                                                    Comodatário(a)                                                                         213.59596\n",
            "3 Concessionário(a) ou assentado(a) aguardando titulação definitiva                                                                         322.64646\n",
            "4                                                          Ocupante                                                                         155.48148\n",
            "5                                                       Parceiro(a)                                                                          87.29630\n",
            "6                                                 Produtor sem área                                                                          78.95286\n",
            "7                                                   Proprietário(a)                                                                        4176.42761\n",
            "  Número de estabelecimentos agropecuários com agroindústria rural (Unidades).Minimo Número de estabelecimentos agropecuários com agroindústria rural (Unidades).Maximo\n",
            "1                                                                            0.00000                                                                         4869.00000\n",
            "2                                                                            0.00000                                                                        13051.00000\n",
            "3                                                                            0.00000                                                                        25024.00000\n",
            "4                                                                            0.00000                                                                        16989.00000\n",
            "5                                                                            0.00000                                                                         6033.00000\n",
            "6                                                                            0.00000                                                                         5553.00000\n",
            "7                                                                            0.00000                                                                       189557.00000\n"
          ]
        }
      ]
    },
    {
      "cell_type": "code",
      "source": [
        "## 7.2 Outliers de quantidade de producao e venda de produtos\n",
        "  # Possivel ver que os outliers e o comportamento geral do grafico de producao é superior consideravelmente ao de venda\n",
        "  # indicando uma possivel falta de demanda e excesso de oferta do setor agro.\n",
        "\n",
        "boxplot(\n",
        "  df$`Quantidade produzida na agroindústria rural`,\n",
        "  df$`Quantidade vendida de produtos da agroindústria rural`,\n",
        "  names = c(\"Produção\", \"Venda\"),\n",
        "  main = \"Outliers na Produção e Venda de Produtos\",\n",
        "  ylab = \"Quantidade\",\n",
        "  col = c(\"green\", \"orange\")\n",
        ")"
      ],
      "metadata": {
        "colab": {
          "base_uri": "https://localhost:8080/",
          "height": 437
        },
        "id": "ah1q48Hm-nY5",
        "outputId": "785dc53b-a2f3-44b6-bd65-bf2e762333af"
      },
      "execution_count": null,
      "outputs": [
        {
          "output_type": "display_data",
          "data": {
            "text/plain": [
              "Plot with title “Outliers na Produção e Venda de Produtos”"
            ],
            "image/png": "[encoded data removed]"
          },
          "metadata": {
            "image/png": {
              "width": 420,
              "height": 420
            }
          }
        }
      ]
    }
  ]
}